{
  "nbformat": 4,
  "nbformat_minor": 0,
  "metadata": {
    "colab": {
      "name": "GloVe.ipynb",
      "provenance": []
    },
    "kernelspec": {
      "name": "python3",
      "display_name": "Python 3"
    }
  },
  "cells": [
    {
      "cell_type": "code",
      "metadata": {
        "id": "X1mu6yip_wi0"
      },
      "source": [
        "import numpy as np\n",
        "from sklearn.manifold import TSNE\n",
        "import matplotlib.pyplot as plt\n",
        "import gensim.downloader as api"
      ],
      "execution_count": 1,
      "outputs": []
    },
    {
      "cell_type": "code",
      "metadata": {
        "id": "x9-_8z_l_12F",
        "outputId": "235484e2-5519-4127-a11d-d7c2279f7e6e",
        "colab": {
          "base_uri": "https://localhost:8080/"
        }
      },
      "source": [
        "Glove_model = api.load('glove-wiki-gigaword-300')"
      ],
      "execution_count": 2,
      "outputs": [
        {
          "output_type": "stream",
          "text": [
            "[==================================================] 100.0% 376.1/376.1MB downloaded\n"
          ],
          "name": "stdout"
        }
      ]
    },
    {
      "cell_type": "code",
      "metadata": {
        "id": "CnBJfY99_3UX",
        "outputId": "a180bd51-41eb-49d8-8bfd-8824772a7758",
        "colab": {
          "base_uri": "https://localhost:8080/"
        }
      },
      "source": [
        "Glove_model[\"tree\"]"
      ],
      "execution_count": 3,
      "outputs": [
        {
          "output_type": "execute_result",
          "data": {
            "text/plain": [
              "array([-5.6435e-01, -1.2970e-01,  1.4408e-01, -4.4019e-01, -3.3668e-01,\n",
              "        4.9639e-01, -5.3135e-02,  2.2653e-01,  1.0723e-01, -7.8894e-01,\n",
              "       -3.9606e-01,  7.9084e-01, -8.4203e-02, -5.1866e-02, -1.6708e-01,\n",
              "        1.8568e-01, -4.0810e-01, -5.2432e-02, -4.2302e-01,  2.3911e-01,\n",
              "        1.5259e-02,  1.9099e-01,  2.6818e-01,  6.3034e-02, -6.2153e-02,\n",
              "       -1.0055e-01, -4.9126e-01, -4.1792e-01, -6.2518e-01,  8.9887e-01,\n",
              "        8.0241e-02,  3.5060e-01, -6.1316e-01, -2.8336e-02, -2.8215e-01,\n",
              "        1.2444e-01,  8.4797e-01, -3.5754e-01, -3.7787e-01, -3.6796e-01,\n",
              "       -3.6041e-01,  1.2594e-01, -6.3622e-02, -2.6109e-01, -1.7909e-01,\n",
              "       -3.3260e-01,  7.3833e-01,  5.9869e-02,  2.5457e-01,  1.3121e-01,\n",
              "       -1.9318e-01, -5.8859e-01, -2.3607e-01, -2.9464e-01, -4.9118e-01,\n",
              "       -1.1710e-01, -3.7903e-01, -1.7793e-01,  4.8562e-01,  7.4358e-02,\n",
              "       -7.6378e-02, -1.2283e-01,  3.9954e-01,  8.1144e-01, -2.2988e-01,\n",
              "       -2.3313e-01, -6.2379e-02,  9.2813e-01, -3.9347e-02,  3.0033e-01,\n",
              "       -9.7013e-01,  4.1243e-01, -9.6927e-01,  5.5325e-01, -8.7159e-01,\n",
              "        2.1020e-01, -3.8392e-02, -3.0676e-01,  2.2387e-01, -7.7817e-02,\n",
              "       -4.0668e-01,  2.7274e-01,  3.7372e-01, -1.1735e-01, -1.3707e-01,\n",
              "        2.8688e-01,  8.0958e-03,  3.4569e-01,  1.3293e-01, -2.3827e-02,\n",
              "        1.6759e-01, -2.8946e-01,  1.4210e-01, -4.9661e-01,  2.8632e-01,\n",
              "       -3.1844e-01,  4.2945e-01, -3.6424e-01, -2.6485e-01, -6.2670e-01,\n",
              "        2.3427e-01,  1.0377e+00,  5.9257e-02,  2.5428e-01,  1.8698e-01,\n",
              "       -7.5089e-02,  4.5030e-01, -3.6401e-01, -2.2171e-01,  1.8016e-01,\n",
              "       -4.1657e-02, -2.3693e-01,  2.2438e-01,  3.0514e-01,  5.0908e-01,\n",
              "        7.1724e-02, -1.0343e-01,  5.2046e-01, -2.8975e-01, -5.3869e-01,\n",
              "       -4.0662e-01, -1.1786e-01,  6.2920e-01,  1.3709e-01, -4.2185e-01,\n",
              "       -1.4722e-02,  6.1052e-02,  1.7121e-01,  1.4816e-01, -2.4802e-01,\n",
              "        1.3751e-01,  6.8607e-01,  5.8462e-01,  5.9200e-01,  1.2885e-01,\n",
              "       -2.4826e-01, -1.4803e-01, -1.3401e-01, -3.9440e-01, -2.7982e-01,\n",
              "        9.5469e-01,  6.1556e-01, -2.0237e-01, -3.5820e-01,  1.0752e-01,\n",
              "        5.2616e-01,  3.6502e-01, -7.3716e-02, -2.7895e-01, -8.0620e-02,\n",
              "        1.2601e-02, -1.6497e-01, -1.2164e-01,  1.9827e-01, -1.9992e-01,\n",
              "       -2.9916e-01,  5.0885e-01, -1.9125e-01, -4.4163e-01,  9.0072e-01,\n",
              "       -2.1377e-01,  1.5912e-01,  5.8009e-01,  2.2372e-01,  7.0003e-02,\n",
              "       -1.4042e-02, -2.4020e-01,  5.6000e-02, -3.1100e-01, -3.8313e-01,\n",
              "       -2.8600e-01, -5.6864e-01,  3.4789e-01,  3.9557e-01,  2.3173e-01,\n",
              "        1.5285e-01,  4.7384e-01,  6.2374e-01,  1.3650e-01, -8.0344e-01,\n",
              "       -2.6661e-01, -1.0039e-01,  6.0552e-01, -7.1305e-01, -5.2126e-02,\n",
              "       -2.9750e-01,  3.1169e-01,  1.6324e-01,  4.1070e-01,  2.7167e-01,\n",
              "        1.5222e-01,  9.2769e-02,  1.6529e-01, -2.5763e-01, -4.5670e-01,\n",
              "       -8.1324e-03,  4.7778e-01,  1.5783e-01, -2.1043e-02,  3.4246e-01,\n",
              "        1.0261e+00,  2.0904e-01, -1.6727e-01, -4.9204e-02,  4.7176e-02,\n",
              "        1.8121e-01, -4.1268e-01,  3.4682e-01,  1.7674e-01,  8.3125e-02,\n",
              "       -2.5703e-01, -4.5113e-01,  1.2679e-01, -6.5666e-01,  3.5139e-01,\n",
              "        1.1653e-01,  1.7200e-01,  2.6490e-01,  5.6456e-01,  1.8133e-03,\n",
              "        4.7596e-01, -8.8045e-02, -7.0881e-01, -1.9062e-01, -3.6204e-01,\n",
              "        4.4005e-01, -2.8424e-02,  3.9779e-01,  2.5677e-01,  5.2158e-01,\n",
              "       -1.5254e-01,  1.8074e-02, -3.1516e-01,  1.2267e-01,  5.0567e-01,\n",
              "       -2.1840e-01, -7.6245e-01, -5.3143e-01, -1.5163e-01, -7.9907e-01,\n",
              "        8.3850e-02, -3.4651e-01, -5.3213e-01, -1.1589e-01, -1.1181e+00,\n",
              "        3.5542e-01,  1.7688e-01,  2.7888e-01,  9.1947e-02, -1.1513e-01,\n",
              "        3.1364e-01,  4.2158e-01, -1.5847e-01, -1.0305e+00,  1.2320e+00,\n",
              "       -9.0308e-02, -3.5325e-02,  9.3564e-02,  4.4954e-01,  2.6633e-01,\n",
              "        1.9228e-01, -3.5787e-04,  1.4203e-01, -4.3771e-02, -1.4360e-01,\n",
              "        3.2044e-01,  3.3763e-01, -3.2284e-01,  4.6184e-01, -1.1823e-01,\n",
              "       -5.0937e-01, -1.7481e-01,  4.4702e-02, -4.5475e-01, -4.7535e-01,\n",
              "       -2.3447e-01, -1.6027e+00, -9.1564e-02, -6.2833e-01, -2.2318e-01,\n",
              "       -5.2346e-01, -5.9005e-01, -2.2773e-01, -6.4549e-01, -7.9457e-01,\n",
              "        6.1661e-01,  8.0129e-01, -5.5505e-01,  1.7815e-01, -1.3936e-01,\n",
              "        5.5653e-01,  7.5952e-02,  2.1905e-01,  8.9731e-02,  2.6486e-01,\n",
              "        1.1190e-01, -1.8650e-01, -1.4347e-01,  1.1146e-01, -2.7562e-02],\n",
              "      dtype=float32)"
            ]
          },
          "metadata": {
            "tags": []
          },
          "execution_count": 3
        }
      ]
    },
    {
      "cell_type": "code",
      "metadata": {
        "id": "rIGf4KQ9_6N3",
        "outputId": "46006994-7e3f-4a59-878e-177c9b1b8769",
        "colab": {
          "base_uri": "https://localhost:8080/"
        }
      },
      "source": [
        "Glove_model.most_similar(\"flower\")"
      ],
      "execution_count": 4,
      "outputs": [
        {
          "output_type": "stream",
          "text": [
            "/usr/local/lib/python3.6/dist-packages/gensim/matutils.py:737: FutureWarning: Conversion of the second argument of issubdtype from `int` to `np.signedinteger` is deprecated. In future, it will be treated as `np.int64 == np.dtype(int).type`.\n",
            "  if np.issubdtype(vec.dtype, np.int):\n"
          ],
          "name": "stderr"
        },
        {
          "output_type": "execute_result",
          "data": {
            "text/plain": [
              "[('flowers', 0.7001290321350098),\n",
              " ('petals', 0.5507512092590332),\n",
              " ('floral', 0.5470587015151978),\n",
              " ('blossoms', 0.5127416849136353),\n",
              " ('fruit', 0.501261293888092),\n",
              " ('flowering', 0.5010756850242615),\n",
              " ('roses', 0.5008190870285034),\n",
              " ('buds', 0.49074745178222656),\n",
              " ('blooms', 0.47430333495140076),\n",
              " ('lavender', 0.47190049290657043)]"
            ]
          },
          "metadata": {
            "tags": []
          },
          "execution_count": 4
        }
      ]
    },
    {
      "cell_type": "code",
      "metadata": {
        "id": "bPrWVNY-_8ao",
        "outputId": "f829b5ed-8d81-42ce-b0de-8865f120dea6",
        "colab": {
          "base_uri": "https://localhost:8080/"
        }
      },
      "source": [
        "Glove_model.most_similar(positive=['feminine', 'boy'], negative=['girl'], topn=1)"
      ],
      "execution_count": 5,
      "outputs": [
        {
          "output_type": "stream",
          "text": [
            "/usr/local/lib/python3.6/dist-packages/gensim/matutils.py:737: FutureWarning: Conversion of the second argument of issubdtype from `int` to `np.signedinteger` is deprecated. In future, it will be treated as `np.int64 == np.dtype(int).type`.\n",
            "  if np.issubdtype(vec.dtype, np.int):\n"
          ],
          "name": "stderr"
        },
        {
          "output_type": "execute_result",
          "data": {
            "text/plain": [
              "[('masculine', 0.7766413688659668)]"
            ]
          },
          "metadata": {
            "tags": []
          },
          "execution_count": 5
        }
      ]
    },
    {
      "cell_type": "code",
      "metadata": {
        "id": "T4fMS07-ADjb",
        "outputId": "eb54bef5-b46d-4fcc-e903-48b85cda82ad",
        "colab": {
          "base_uri": "https://localhost:8080/",
          "height": 487
        }
      },
      "source": [
        "vocab = [\"flower\", \"tree\", \"vegetables\", \"mother\", \"son\", \"father\", \"daughter\", \"sister\", \"forest\", \"floral\", \"palm\",\"orange\", \"banana\", \"apple\",\"human\",\"family\",\"school\",\"student\",\"professor\",\"books\"]\n",
        "\n",
        "def tsne_plot(model):\n",
        "    labels = []\n",
        "    wordvecs = []\n",
        "\n",
        "    for word in vocab:\n",
        "        wordvecs.append(model[word])\n",
        "        labels.append(word)\n",
        "    \n",
        "    tsne_model = TSNE(perplexity=2, n_components=2, init='pca', random_state=42)\n",
        "    coordinates = tsne_model.fit_transform(wordvecs)\n",
        "\n",
        "    x = []\n",
        "    y = []\n",
        "    for value in coordinates:\n",
        "        x.append(value[0])\n",
        "        y.append(value[1])\n",
        "        \n",
        "    plt.figure(figsize=(8,8)) \n",
        "    for i in range(len(x)):\n",
        "        plt.scatter(x[i],y[i])\n",
        "        plt.annotate(labels[i],\n",
        "                     xy=(x[i], y[i]),\n",
        "                     xytext=(2, 2),\n",
        "                     textcoords='offset points',\n",
        "                     ha='right',\n",
        "                     va='bottom')\n",
        "    plt.show()\n",
        "\n",
        "tsne_plot(Glove_model)"
      ],
      "execution_count": 11,
      "outputs": [
        {
          "output_type": "display_data",
          "data": {
            "image/png": "[encoded data removed]",
            "text/plain": [
              "<Figure size 576x576 with 1 Axes>"
            ]
          },
          "metadata": {
            "tags": [],
            "needs_background": "light"
          }
        }
      ]
    }
  ]
}