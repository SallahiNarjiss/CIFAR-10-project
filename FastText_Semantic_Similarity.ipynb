{
  "nbformat": 4,
  "nbformat_minor": 0,
  "metadata": {
    "colab": {
      "name": "FastText_Semantic_Similarity.ipynb",
      "provenance": []
    },
    "kernelspec": {
      "name": "python3",
      "display_name": "Python 3"
    }
  },
  "cells": [
    {
      "cell_type": "code",
      "metadata": {
        "colab": {
          "base_uri": "https://localhost:8080/"
        },
        "id": "pVpCofGq71_D",
        "outputId": "165d7ba8-e57d-4c8b-93ab-3d53df97ae3e"
      },
      "source": [
        "pip install wikipedia"
      ],
      "execution_count": 1,
      "outputs": [
        {
          "output_type": "stream",
          "text": [
            "Collecting wikipedia\n",
            "  Downloading https://files.pythonhosted.org/packages/67/35/25e68fbc99e672127cc6fbb14b8ec1ba3dfef035bf1e4c90f78f24a80b7d/wikipedia-1.4.0.tar.gz\n",
            "Requirement already satisfied: beautifulsoup4 in /usr/local/lib/python3.6/dist-packages (from wikipedia) (4.6.3)\n",
            "Requirement already satisfied: requests<3.0.0,>=2.0.0 in /usr/local/lib/python3.6/dist-packages (from wikipedia) (2.23.0)\n",
            "Requirement already satisfied: certifi>=2017.4.17 in /usr/local/lib/python3.6/dist-packages (from requests<3.0.0,>=2.0.0->wikipedia) (2020.6.20)\n",
            "Requirement already satisfied: chardet<4,>=3.0.2 in /usr/local/lib/python3.6/dist-packages (from requests<3.0.0,>=2.0.0->wikipedia) (3.0.4)\n",
            "Requirement already satisfied: idna<3,>=2.5 in /usr/local/lib/python3.6/dist-packages (from requests<3.0.0,>=2.0.0->wikipedia) (2.10)\n",
            "Requirement already satisfied: urllib3!=1.25.0,!=1.25.1,<1.26,>=1.21.1 in /usr/local/lib/python3.6/dist-packages (from requests<3.0.0,>=2.0.0->wikipedia) (1.24.3)\n",
            "Building wheels for collected packages: wikipedia\n",
            "  Building wheel for wikipedia (setup.py) ... \u001b[?25l\u001b[?25hdone\n",
            "  Created wheel for wikipedia: filename=wikipedia-1.4.0-cp36-none-any.whl size=11686 sha256=83fbb04c3380244ed10f12d7a200fd1833e3bf922c8f37ffe37deff0238e2150\n",
            "  Stored in directory: /root/.cache/pip/wheels/87/2a/18/4e471fd96d12114d16fe4a446d00c3b38fb9efcb744bd31f4a\n",
            "Successfully built wikipedia\n",
            "Installing collected packages: wikipedia\n",
            "Successfully installed wikipedia-1.4.0\n"
          ],
          "name": "stdout"
        }
      ]
    },
    {
      "cell_type": "code",
      "metadata": {
        "colab": {
          "base_uri": "https://localhost:8080/"
        },
        "id": "YMhtfXMX8F_J",
        "outputId": "b556ca80-1207-48c8-a5ba-050412565a29"
      },
      "source": [
        "from keras.preprocessing.text import Tokenizer\n",
        "from gensim.models.fasttext import FastText\n",
        "import numpy as np\n",
        "import matplotlib.pyplot as plt\n",
        "import nltk\n",
        "from string import punctuation\n",
        "from nltk.corpus import stopwords\n",
        "from nltk.tokenize import word_tokenize\n",
        "from nltk.stem import WordNetLemmatizer\n",
        "from nltk.tokenize import sent_tokenize\n",
        "from nltk import WordPunctTokenizer\n",
        "\n",
        "import wikipedia\n",
        "import nltk\n",
        "nltk.download('punkt')\n",
        "nltk.download('wordnet')\n",
        "nltk.download('stopwords')\n",
        "en_stop = set(nltk.corpus.stopwords.words('english'))\n",
        "\n",
        "%matplotlib inline"
      ],
      "execution_count": 2,
      "outputs": [
        {
          "output_type": "stream",
          "text": [
            "[nltk_data] Downloading package punkt to /root/nltk_data...\n",
            "[nltk_data]   Unzipping tokenizers/punkt.zip.\n",
            "[nltk_data] Downloading package wordnet to /root/nltk_data...\n",
            "[nltk_data]   Unzipping corpora/wordnet.zip.\n",
            "[nltk_data] Downloading package stopwords to /root/nltk_data...\n",
            "[nltk_data]   Unzipping corpora/stopwords.zip.\n"
          ],
          "name": "stdout"
        }
      ]
    },
    {
      "cell_type": "code",
      "metadata": {
        "id": "HXYYCTq98No8"
      },
      "source": [
        "#Scraping Wikipedia Articles\n",
        "artificial_intelligence = wikipedia.page(\"Artificial Intelligence\").content\n",
        "Data_science = wikipedia.page(\"Data Science\").content\n",
        "deep_learning = wikipedia.page(\"Deep Learning\").content\n",
        "neural_network = wikipedia.page(\"Neural Network\").content\n",
        "\n",
        "artificial_intelligence = sent_tokenize(artificial_intelligence)\n",
        "Data_science = sent_tokenize(Data_science)\n",
        "deep_learning = sent_tokenize(deep_learning)\n",
        "neural_network = sent_tokenize(neural_network)\n",
        "\n",
        "artificial_intelligence.extend(Data_science)\n",
        "artificial_intelligence.extend(deep_learning)\n",
        "artificial_intelligence.extend(neural_network)"
      ],
      "execution_count": 6,
      "outputs": []
    },
    {
      "cell_type": "code",
      "metadata": {
        "id": "B6lPCgkgBK70"
      },
      "source": [
        "#Data Preprocessing\n",
        "import re\n",
        "from nltk.stem import WordNetLemmatizer\n",
        "\n",
        "stemmer = WordNetLemmatizer()\n",
        "\n",
        "def preprocess_text(document):\n",
        "        # Remove all the special characters\n",
        "        document = re.sub(r'\\W', ' ', str(document))\n",
        "\n",
        "        # remove all single characters\n",
        "        document = re.sub(r'\\s+[a-zA-Z]\\s+', ' ', document)\n",
        "\n",
        "        # Remove single characters from the start\n",
        "        document = re.sub(r'\\^[a-zA-Z]\\s+', ' ', document)\n",
        "\n",
        "        # Substituting multiple spaces with single space\n",
        "        document = re.sub(r'\\s+', ' ', document, flags=re.I)\n",
        "\n",
        "        # Removing prefixed 'b'\n",
        "        document = re.sub(r'^b\\s+', '', document)\n",
        "\n",
        "        # Converting to Lowercase\n",
        "        document = document.lower()\n",
        "\n",
        "        # Lemmatization\n",
        "        tokens = document.split()\n",
        "        tokens = [stemmer.lemmatize(word) for word in tokens]\n",
        "        tokens = [word for word in tokens if word not in en_stop]\n",
        "        tokens = [word for word in tokens if len(word) > 3]\n",
        "\n",
        "        preprocessed_text = ' '.join(tokens)\n",
        "\n",
        "        return preprocessed_text"
      ],
      "execution_count": 7,
      "outputs": []
    },
    {
      "cell_type": "code",
      "metadata": {
        "colab": {
          "base_uri": "https://localhost:8080/"
        },
        "id": "toXCIWZ9Bs-7",
        "outputId": "eb0f6b78-cdb6-4785-b12e-14f757354ba2"
      },
      "source": [
        "sent = preprocess_text(\"Artificial  intelligence, is the most advanced technology of the present era\")\n",
        "print(sent)\n",
        "\n",
        "\n",
        "final_corpus = [preprocess_text(sentence) for sentence in artificial_intelligence if sentence.strip() !='']\n",
        "\n",
        "word_punctuation_tokenizer = nltk.WordPunctTokenizer()\n",
        "word_tokenized_corpus = [word_punctuation_tokenizer.tokenize(sent) for sent in final_corpus]\n"
      ],
      "execution_count": 10,
      "outputs": [
        {
          "output_type": "stream",
          "text": [
            "artificial intelligence advanced technology present\n"
          ],
          "name": "stdout"
        }
      ]
    },
    {
      "cell_type": "code",
      "metadata": {
        "id": "Fc72x4o_B2Fu"
      },
      "source": [
        "embedding_size = 60\n",
        "window_size = 40\n",
        "min_word = 5\n",
        "down_sampling = 1e-2"
      ],
      "execution_count": 11,
      "outputs": []
    },
    {
      "cell_type": "code",
      "metadata": {
        "id": "4WvRVD6ADf1y"
      },
      "source": [
        "ft_model = FastText(word_tokenized_corpus,\n",
        "                      size=embedding_size,\n",
        "                      window=window_size,\n",
        "                      min_count=min_word,\n",
        "                      sample=down_sampling,\n",
        "                      sg=1,\n",
        "                      iter=100)"
      ],
      "execution_count": 12,
      "outputs": []
    },
    {
      "cell_type": "code",
      "metadata": {
        "colab": {
          "base_uri": "https://localhost:8080/"
        },
        "id": "NFpmfSgTDhFA",
        "outputId": "34e534ec-0fcb-4621-9218-55bb9ebf873e"
      },
      "source": [
        "print(ft_model.wv['artificial'])"
      ],
      "execution_count": 13,
      "outputs": [
        {
          "output_type": "stream",
          "text": [
            "[ 4.71398048e-02  1.67775616e-01  1.05872661e-01 -3.31401825e-01\n",
            "  2.57186949e-01  2.58488178e-01 -8.36252887e-03  8.06308631e-03\n",
            "  9.06530861e-03 -4.24778074e-01 -6.76711619e-01  3.86130720e-01\n",
            " -9.45273861e-02 -1.13989279e-01  1.44981027e-01  4.14227962e-01\n",
            "  3.20574701e-01 -4.79525141e-02  3.05986196e-01  1.11146094e-02\n",
            " -1.05501235e-01  2.30556980e-01  6.02244250e-02 -2.78098673e-01\n",
            " -8.19751178e-04 -1.74468562e-01 -4.82417077e-01  5.49856305e-01\n",
            "  2.22924009e-01  2.77492851e-01 -1.49039645e-02 -3.18037122e-01\n",
            "  5.97520880e-02 -2.15663835e-02  9.74843651e-02  1.12631600e-02\n",
            "  1.67006791e-01 -1.69513106e-01 -1.73642918e-01 -3.41269784e-02\n",
            " -3.69520020e-03 -5.01826815e-02 -1.07229352e-01  1.16692901e-01\n",
            "  2.49175891e-01 -1.20403551e-01 -9.47388709e-02 -9.08777952e-01\n",
            "  8.29004869e-02 -6.63566142e-02  5.36714680e-02  5.65241158e-01\n",
            " -2.00776458e-01 -4.25410271e-01 -2.34652385e-01 -6.79074898e-02\n",
            "  8.30212712e-01  5.16276918e-02 -2.82906979e-01 -4.64165002e-01]\n"
          ],
          "name": "stdout"
        }
      ]
    },
    {
      "cell_type": "code",
      "metadata": {
        "colab": {
          "base_uri": "https://localhost:8080/"
        },
        "id": "lZoIERf1D4iy",
        "outputId": "775f9d34-f945-4da8-ab08-dee79b9ffca4"
      },
      "source": [
        "semantically_similar_words = {words: [item[0] for item in ft_model.wv.most_similar([words], topn=5)]\n",
        "                  for words in ['artificial', 'intelligence', 'machine', 'network', 'recurrent', 'deep']}\n",
        "\n",
        "for k,v in semantically_similar_words.items():\n",
        "    print(k+\":\"+str(v))"
      ],
      "execution_count": 14,
      "outputs": [
        {
          "output_type": "stream",
          "text": [
            "artificial:['intelligence', 'machine', 'simulated', 'philosophical', 'moral']\n",
            "intelligence:['artificial', 'intelligent', 'machine', 'simulated', 'human']\n",
            "machine:['ethic', 'ethical', 'artificial', 'intelligence', 'argument']\n",
            "network:['neural', 'convolutional', 'recurrent', 'biological', 'unit']\n",
            "recurrent:['network', 'convolutional', 'neural', 'vision', 'unsupervised']\n",
            "deep:['learning', 'belief', 'convolutional', 'generative', 'speech']\n"
          ],
          "name": "stdout"
        },
        {
          "output_type": "stream",
          "text": [
            "/usr/local/lib/python3.6/dist-packages/gensim/matutils.py:737: FutureWarning: Conversion of the second argument of issubdtype from `int` to `np.signedinteger` is deprecated. In future, it will be treated as `np.int64 == np.dtype(int).type`.\n",
            "  if np.issubdtype(vec.dtype, np.int):\n"
          ],
          "name": "stderr"
        }
      ]
    },
    {
      "cell_type": "code",
      "metadata": {
        "colab": {
          "base_uri": "https://localhost:8080/"
        },
        "id": "mP8DuDVJD8hX",
        "outputId": "86159f29-27c5-4ffd-fdeb-7d283728c7d4"
      },
      "source": [
        "from sklearn.decomposition import PCA\n",
        "\n",
        "all_similar_words = sum([[k] + v for k, v in semantically_similar_words.items()], [])\n",
        "\n",
        "print(all_similar_words)\n",
        "print(type(all_similar_words))\n",
        "print(len(all_similar_words))\n"
      ],
      "execution_count": 15,
      "outputs": [
        {
          "output_type": "stream",
          "text": [
            "['artificial', 'intelligence', 'machine', 'simulated', 'philosophical', 'moral', 'intelligence', 'artificial', 'intelligent', 'machine', 'simulated', 'human', 'machine', 'ethic', 'ethical', 'artificial', 'intelligence', 'argument', 'network', 'neural', 'convolutional', 'recurrent', 'biological', 'unit', 'recurrent', 'network', 'convolutional', 'neural', 'vision', 'unsupervised', 'deep', 'learning', 'belief', 'convolutional', 'generative', 'speech']\n",
            "<class 'list'>\n",
            "36\n"
          ],
          "name": "stdout"
        }
      ]
    },
    {
      "cell_type": "code",
      "metadata": {
        "colab": {
          "base_uri": "https://localhost:8080/",
          "height": 592
        },
        "id": "wqpppCoHENQH",
        "outputId": "cd8a6422-9624-4ed2-e1c7-96e3313cec6f"
      },
      "source": [
        "word_vectors = ft_model.wv[all_similar_words]\n",
        "\n",
        "pca = PCA(n_components=2)\n",
        "\n",
        "p_comps = pca.fit_transform(word_vectors)\n",
        "word_names = all_similar_words\n",
        "\n",
        "plt.figure(figsize=(18, 10))\n",
        "plt.scatter(p_comps[:, 0], p_comps[:, 1], c='red')\n",
        "\n",
        "for word_names, x, y in zip(word_names, p_comps[:, 0], p_comps[:, 1]):\n",
        "    plt.annotate(word_names, xy=(x+0.06, y+0.03), xytext=(0, 0), textcoords='offset points')"
      ],
      "execution_count": 16,
      "outputs": [
        {
          "output_type": "display_data",
          "data": {
            "image/png": "[encoded data removed]",
            "text/plain": [
              "<Figure size 1296x720 with 1 Axes>"
            ]
          },
          "metadata": {
            "tags": [],
            "needs_background": "light"
          }
        }
      ]
    }
  ]
}