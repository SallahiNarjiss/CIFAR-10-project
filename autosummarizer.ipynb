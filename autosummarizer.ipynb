{
  "nbformat": 4,
  "nbformat_minor": 0,
  "metadata": {
    "colab": {
      "name": "autosummarizer.ipynb",
      "provenance": []
    },
    "kernelspec": {
      "name": "python3",
      "display_name": "Python 3"
    }
  },
  "cells": [
    {
      "cell_type": "markdown",
      "metadata": {
        "id": "ae4rmUBI7hO_"
      },
      "source": [
        ""
      ]
    },
    {
      "cell_type": "markdown",
      "metadata": {
        "id": "XQUsOpZz8Qi9"
      },
      "source": [
        ""
      ]
    },
    {
      "cell_type": "code",
      "metadata": {
        "id": "4W03tcP08SwL"
      },
      "source": [
        "text = \"\"\"The integration and exploitation of new digital technologies is one of the biggest challenges that companies currently face. No sector or organization is immune to the effects of digital transformation. The market-changing potential of digital technologies is often wider than products, business processes, sales channels or supply chains—entire business models are being reshaped and frequently overturned.2\n",
        "As a result, digital transformation has become a high priority on leadership agendas, with nearly 90% of business leaders in the U.S. and U.K. expecting IT and digital technologies to make an increasing strategic contribution to their overall business in the coming decade.3 The question is no longer when companies need to make digital transformation a strategic priority—this tipping point has passed—but how to embrace it and use it as a competitive advantage.\n",
        "Faced with the digital transformation challenge and the need to remain competitive in their industries, business leaders must formulate and execute digital strategies that drive better operational performance. Unfortunately, there are many recent examples of organizations that have been unable to keep pace with the new digital reality. Prominent examples include the bankruptcy of movie-rental company Blockbuster and the sale of the Washington Post to Jeff Bezos, founder of Amazon—largely resulting from those firms’ inability to rapidly develop and implement new digitally based business models.\"\"\""
      ],
      "execution_count": null,
      "outputs": []
    },
    {
      "cell_type": "code",
      "metadata": {
        "id": "w2CN4HNx85t3",
        "outputId": "335da73f-ee39-443c-96f5-e1de3e44f512",
        "colab": {
          "base_uri": "https://localhost:8080/"
        }
      },
      "source": [
        " !pip install -U spacy"
      ],
      "execution_count": null,
      "outputs": [
        {
          "output_type": "stream",
          "text": [
            "Collecting spacy\n",
            "\u001b[?25l  Downloading https://files.pythonhosted.org/packages/10/b5/c7a92c7ce5d4b353b70b4b5b4385687206c8b230ddfe08746ab0fd310a3a/spacy-2.3.2-cp36-cp36m-manylinux1_x86_64.whl (9.9MB)\n",
            "\u001b[K     |████████████████████████████████| 10.0MB 5.2MB/s \n",
            "\u001b[?25hRequirement already satisfied, skipping upgrade: murmurhash<1.1.0,>=0.28.0 in /usr/local/lib/python3.6/dist-packages (from spacy) (1.0.2)\n",
            "Requirement already satisfied, skipping upgrade: srsly<1.1.0,>=1.0.2 in /usr/local/lib/python3.6/dist-packages (from spacy) (1.0.2)\n",
            "Requirement already satisfied, skipping upgrade: requests<3.0.0,>=2.13.0 in /usr/local/lib/python3.6/dist-packages (from spacy) (2.23.0)\n",
            "Requirement already satisfied, skipping upgrade: numpy>=1.15.0 in /usr/local/lib/python3.6/dist-packages (from spacy) (1.18.5)\n",
            "Requirement already satisfied, skipping upgrade: wasabi<1.1.0,>=0.4.0 in /usr/local/lib/python3.6/dist-packages (from spacy) (0.8.0)\n",
            "Requirement already satisfied, skipping upgrade: preshed<3.1.0,>=3.0.2 in /usr/local/lib/python3.6/dist-packages (from spacy) (3.0.2)\n",
            "Requirement already satisfied, skipping upgrade: blis<0.5.0,>=0.4.0 in /usr/local/lib/python3.6/dist-packages (from spacy) (0.4.1)\n",
            "Requirement already satisfied, skipping upgrade: cymem<2.1.0,>=2.0.2 in /usr/local/lib/python3.6/dist-packages (from spacy) (2.0.3)\n",
            "Requirement already satisfied, skipping upgrade: tqdm<5.0.0,>=4.38.0 in /usr/local/lib/python3.6/dist-packages (from spacy) (4.41.1)\n",
            "Requirement already satisfied, skipping upgrade: plac<1.2.0,>=0.9.6 in /usr/local/lib/python3.6/dist-packages (from spacy) (1.1.3)\n",
            "Requirement already satisfied, skipping upgrade: catalogue<1.1.0,>=0.0.7 in /usr/local/lib/python3.6/dist-packages (from spacy) (1.0.0)\n",
            "Requirement already satisfied, skipping upgrade: setuptools in /usr/local/lib/python3.6/dist-packages (from spacy) (50.3.2)\n",
            "Collecting thinc==7.4.1\n",
            "\u001b[?25l  Downloading https://files.pythonhosted.org/packages/10/ae/ef3ae5e93639c0ef8e3eb32e3c18341e511b3c515fcfc603f4b808087651/thinc-7.4.1-cp36-cp36m-manylinux1_x86_64.whl (2.1MB)\n",
            "\u001b[K     |████████████████████████████████| 2.1MB 36.9MB/s \n",
            "\u001b[?25hRequirement already satisfied, skipping upgrade: chardet<4,>=3.0.2 in /usr/local/lib/python3.6/dist-packages (from requests<3.0.0,>=2.13.0->spacy) (3.0.4)\n",
            "Requirement already satisfied, skipping upgrade: urllib3!=1.25.0,!=1.25.1,<1.26,>=1.21.1 in /usr/local/lib/python3.6/dist-packages (from requests<3.0.0,>=2.13.0->spacy) (1.24.3)\n",
            "Requirement already satisfied, skipping upgrade: idna<3,>=2.5 in /usr/local/lib/python3.6/dist-packages (from requests<3.0.0,>=2.13.0->spacy) (2.10)\n",
            "Requirement already satisfied, skipping upgrade: certifi>=2017.4.17 in /usr/local/lib/python3.6/dist-packages (from requests<3.0.0,>=2.13.0->spacy) (2020.6.20)\n",
            "Requirement already satisfied, skipping upgrade: importlib-metadata>=0.20; python_version < \"3.8\" in /usr/local/lib/python3.6/dist-packages (from catalogue<1.1.0,>=0.0.7->spacy) (2.0.0)\n",
            "Requirement already satisfied, skipping upgrade: zipp>=0.5 in /usr/local/lib/python3.6/dist-packages (from importlib-metadata>=0.20; python_version < \"3.8\"->catalogue<1.1.0,>=0.0.7->spacy) (3.3.1)\n",
            "Installing collected packages: thinc, spacy\n",
            "  Found existing installation: thinc 7.4.0\n",
            "    Uninstalling thinc-7.4.0:\n",
            "      Successfully uninstalled thinc-7.4.0\n",
            "  Found existing installation: spacy 2.2.4\n",
            "    Uninstalling spacy-2.2.4:\n",
            "      Successfully uninstalled spacy-2.2.4\n",
            "Successfully installed spacy-2.3.2 thinc-7.4.1\n"
          ],
          "name": "stdout"
        }
      ]
    },
    {
      "cell_type": "code",
      "metadata": {
        "id": "G6TyDLTu_XR5",
        "outputId": "65762084-28db-4fbc-a8a2-7f5ec33da8d9",
        "colab": {
          "base_uri": "https://localhost:8080/"
        }
      },
      "source": [
        " !python -m spacy download en_core_web_sm"
      ],
      "execution_count": null,
      "outputs": [
        {
          "output_type": "stream",
          "text": [
            "Collecting en_core_web_sm==2.3.1\n",
            "\u001b[?25l  Downloading https://github.com/explosion/spacy-models/releases/download/en_core_web_sm-2.3.1/en_core_web_sm-2.3.1.tar.gz (12.0MB)\n",
            "\u001b[K     |████████████████████████████████| 12.1MB 520kB/s \n",
            "\u001b[?25hRequirement already satisfied: spacy<2.4.0,>=2.3.0 in /usr/local/lib/python3.6/dist-packages (from en_core_web_sm==2.3.1) (2.3.2)\n",
            "Requirement already satisfied: srsly<1.1.0,>=1.0.2 in /usr/local/lib/python3.6/dist-packages (from spacy<2.4.0,>=2.3.0->en_core_web_sm==2.3.1) (1.0.2)\n",
            "Requirement already satisfied: catalogue<1.1.0,>=0.0.7 in /usr/local/lib/python3.6/dist-packages (from spacy<2.4.0,>=2.3.0->en_core_web_sm==2.3.1) (1.0.0)\n",
            "Requirement already satisfied: blis<0.5.0,>=0.4.0 in /usr/local/lib/python3.6/dist-packages (from spacy<2.4.0,>=2.3.0->en_core_web_sm==2.3.1) (0.4.1)\n",
            "Requirement already satisfied: preshed<3.1.0,>=3.0.2 in /usr/local/lib/python3.6/dist-packages (from spacy<2.4.0,>=2.3.0->en_core_web_sm==2.3.1) (3.0.2)\n",
            "Requirement already satisfied: plac<1.2.0,>=0.9.6 in /usr/local/lib/python3.6/dist-packages (from spacy<2.4.0,>=2.3.0->en_core_web_sm==2.3.1) (1.1.3)\n",
            "Requirement already satisfied: murmurhash<1.1.0,>=0.28.0 in /usr/local/lib/python3.6/dist-packages (from spacy<2.4.0,>=2.3.0->en_core_web_sm==2.3.1) (1.0.2)\n",
            "Requirement already satisfied: requests<3.0.0,>=2.13.0 in /usr/local/lib/python3.6/dist-packages (from spacy<2.4.0,>=2.3.0->en_core_web_sm==2.3.1) (2.23.0)\n",
            "Requirement already satisfied: wasabi<1.1.0,>=0.4.0 in /usr/local/lib/python3.6/dist-packages (from spacy<2.4.0,>=2.3.0->en_core_web_sm==2.3.1) (0.8.0)\n",
            "Requirement already satisfied: numpy>=1.15.0 in /usr/local/lib/python3.6/dist-packages (from spacy<2.4.0,>=2.3.0->en_core_web_sm==2.3.1) (1.18.5)\n",
            "Requirement already satisfied: thinc==7.4.1 in /usr/local/lib/python3.6/dist-packages (from spacy<2.4.0,>=2.3.0->en_core_web_sm==2.3.1) (7.4.1)\n",
            "Requirement already satisfied: tqdm<5.0.0,>=4.38.0 in /usr/local/lib/python3.6/dist-packages (from spacy<2.4.0,>=2.3.0->en_core_web_sm==2.3.1) (4.41.1)\n",
            "Requirement already satisfied: cymem<2.1.0,>=2.0.2 in /usr/local/lib/python3.6/dist-packages (from spacy<2.4.0,>=2.3.0->en_core_web_sm==2.3.1) (2.0.3)\n",
            "Requirement already satisfied: setuptools in /usr/local/lib/python3.6/dist-packages (from spacy<2.4.0,>=2.3.0->en_core_web_sm==2.3.1) (50.3.2)\n",
            "Requirement already satisfied: importlib-metadata>=0.20; python_version < \"3.8\" in /usr/local/lib/python3.6/dist-packages (from catalogue<1.1.0,>=0.0.7->spacy<2.4.0,>=2.3.0->en_core_web_sm==2.3.1) (2.0.0)\n",
            "Requirement already satisfied: urllib3!=1.25.0,!=1.25.1,<1.26,>=1.21.1 in /usr/local/lib/python3.6/dist-packages (from requests<3.0.0,>=2.13.0->spacy<2.4.0,>=2.3.0->en_core_web_sm==2.3.1) (1.24.3)\n",
            "Requirement already satisfied: chardet<4,>=3.0.2 in /usr/local/lib/python3.6/dist-packages (from requests<3.0.0,>=2.13.0->spacy<2.4.0,>=2.3.0->en_core_web_sm==2.3.1) (3.0.4)\n",
            "Requirement already satisfied: idna<3,>=2.5 in /usr/local/lib/python3.6/dist-packages (from requests<3.0.0,>=2.13.0->spacy<2.4.0,>=2.3.0->en_core_web_sm==2.3.1) (2.10)\n",
            "Requirement already satisfied: certifi>=2017.4.17 in /usr/local/lib/python3.6/dist-packages (from requests<3.0.0,>=2.13.0->spacy<2.4.0,>=2.3.0->en_core_web_sm==2.3.1) (2020.6.20)\n",
            "Requirement already satisfied: zipp>=0.5 in /usr/local/lib/python3.6/dist-packages (from importlib-metadata>=0.20; python_version < \"3.8\"->catalogue<1.1.0,>=0.0.7->spacy<2.4.0,>=2.3.0->en_core_web_sm==2.3.1) (3.3.1)\n",
            "Building wheels for collected packages: en-core-web-sm\n",
            "  Building wheel for en-core-web-sm (setup.py) ... \u001b[?25l\u001b[?25hdone\n",
            "  Created wheel for en-core-web-sm: filename=en_core_web_sm-2.3.1-cp36-none-any.whl size=12047109 sha256=02ad71339b04343f83e04d974ec3eefde37a4b31bac6f3cf744ff8c5214f9fa7\n",
            "  Stored in directory: /tmp/pip-ephem-wheel-cache-ycwp402a/wheels/2b/3f/41/f0b92863355c3ba34bb32b37d8a0c662959da0058202094f46\n",
            "Successfully built en-core-web-sm\n",
            "Installing collected packages: en-core-web-sm\n",
            "  Found existing installation: en-core-web-sm 2.2.5\n",
            "    Uninstalling en-core-web-sm-2.2.5:\n",
            "      Successfully uninstalled en-core-web-sm-2.2.5\n",
            "Successfully installed en-core-web-sm-2.3.1\n",
            "\u001b[38;5;2m✔ Download and installation successful\u001b[0m\n",
            "You can now load the model via spacy.load('en_core_web_sm')\n"
          ],
          "name": "stdout"
        }
      ]
    },
    {
      "cell_type": "code",
      "metadata": {
        "id": "xwc4md0WBQch"
      },
      "source": [
        "import spacy\n",
        "from spacy.lang.en.stop_words import STOP_WORDS\n",
        "from string import punctuation"
      ],
      "execution_count": null,
      "outputs": []
    },
    {
      "cell_type": "code",
      "metadata": {
        "id": "oNrTdKjiBl2I"
      },
      "source": [
        "stop_words= list(STOP_WORDS)\n",
        "stop_words"
      ],
      "execution_count": null,
      "outputs": []
    },
    {
      "cell_type": "code",
      "metadata": {
        "id": "KpwcyqPLB405"
      },
      "source": [
        "nlp = spacy.load('en_core_web_sm')"
      ],
      "execution_count": null,
      "outputs": []
    },
    {
      "cell_type": "code",
      "metadata": {
        "id": "m_UMboLeCD6G"
      },
      "source": [
        "doc = nlp(text)\n"
      ],
      "execution_count": null,
      "outputs": []
    },
    {
      "cell_type": "code",
      "metadata": {
        "id": "KCkeA3K3CXeG",
        "outputId": "e327d2d4-1f79-4b80-fecc-6eb70486c6c0",
        "colab": {
          "base_uri": "https://localhost:8080/"
        }
      },
      "source": [
        "tokens = [token.text for token in doc]\n",
        "print(tokens)"
      ],
      "execution_count": null,
      "outputs": [
        {
          "output_type": "stream",
          "text": [
            "['The', 'integration', 'and', 'exploitation', 'of', 'new', 'digital', 'technologies', 'is', 'one', 'of', 'the', 'biggest', 'challenges', 'that', 'companies', 'currently', 'face', '.', 'No', 'sector', 'or', 'organization', 'is', 'immune', 'to', 'the', 'effects', 'of', 'digital', 'transformation', '.', 'The', 'market', '-', 'changing', 'potential', 'of', 'digital', 'technologies', 'is', 'often', 'wider', 'than', 'products', ',', 'business', 'processes', ',', 'sales', 'channels', 'or', 'supply', 'chains', '—', 'entire', 'business', 'models', 'are', 'being', 'reshaped', 'and', 'frequently', 'overturned.2', '\\n', 'As', 'a', 'result', ',', 'digital', 'transformation', 'has', 'become', 'a', 'high', 'priority', 'on', 'leadership', 'agendas', ',', 'with', 'nearly', '90', '%', 'of', 'business', 'leaders', 'in', 'the', 'U.S.', 'and', 'U.K.', 'expecting', 'IT', 'and', 'digital', 'technologies', 'to', 'make', 'an', 'increasing', 'strategic', 'contribution', 'to', 'their', 'overall', 'business', 'in', 'the', 'coming', 'decade.3', 'The', 'question', 'is', 'no', 'longer', 'when', 'companies', 'need', 'to', 'make', 'digital', 'transformation', 'a', 'strategic', 'priority', '—', 'this', 'tipping', 'point', 'has', 'passed', '—', 'but', 'how', 'to', 'embrace', 'it', 'and', 'use', 'it', 'as', 'a', 'competitive', 'advantage', '.', '\\n', 'Faced', 'with', 'the', 'digital', 'transformation', 'challenge', 'and', 'the', 'need', 'to', 'remain', 'competitive', 'in', 'their', 'industries', ',', 'business', 'leaders', 'must', 'formulate', 'and', 'execute', 'digital', 'strategies', 'that', 'drive', 'better', 'operational', 'performance', '.', 'Unfortunately', ',', 'there', 'are', 'many', 'recent', 'examples', 'of', 'organizations', 'that', 'have', 'been', 'unable', 'to', 'keep', 'pace', 'with', 'the', 'new', 'digital', 'reality', '.', 'Prominent', 'examples', 'include', 'the', 'bankruptcy', 'of', 'movie', '-', 'rental', 'company', 'Blockbuster', 'and', 'the', 'sale', 'of', 'the', 'Washington', 'Post', 'to', 'Jeff', 'Bezos', ',', 'founder', 'of', 'Amazon', '—', 'largely', 'resulting', 'from', 'those', 'firms', '’', 'inability', 'to', 'rapidly', 'develop', 'and', 'implement', 'new', 'digitally', 'based', 'business', 'models', '.']\n"
          ],
          "name": "stdout"
        }
      ]
    },
    {
      "cell_type": "code",
      "metadata": {
        "id": "KAIfx7qTC77k",
        "outputId": "125c2ecb-5544-4e56-d583-6c8de4b9d12e",
        "colab": {
          "base_uri": "https://localhost:8080/",
          "height": 35
        }
      },
      "source": [
        "punctuation"
      ],
      "execution_count": null,
      "outputs": [
        {
          "output_type": "execute_result",
          "data": {
            "application/vnd.google.colaboratory.intrinsic+json": {
              "type": "string"
            },
            "text/plain": [
              "'!\"#$%&\\'()*+,-./:;<=>?@[\\\\]^_`{|}~'"
            ]
          },
          "metadata": {
            "tags": []
          },
          "execution_count": 47
        }
      ]
    },
    {
      "cell_type": "code",
      "metadata": {
        "id": "6QTo5f6XDPOh"
      },
      "source": [
        "punctuation = punctuation+ '\\n'"
      ],
      "execution_count": null,
      "outputs": []
    },
    {
      "cell_type": "code",
      "metadata": {
        "id": "iEZOppNVD8ko",
        "outputId": "c8394f05-f5d2-459a-afe7-b2fcb8ff6769",
        "colab": {
          "base_uri": "https://localhost:8080/"
        }
      },
      "source": [
        "word_frequencies = {}\n",
        "for word in doc :\n",
        "  if word.text.lower() not in stop_words:\n",
        "    if word.text.lower() not in punctuation:\n",
        "      if word.text not in word_frequencies.keys():\n",
        "        word_frequencies[word.text]= 1\n",
        "      else :\n",
        "        word_frequencies[word.text] += 1\n",
        "print(word_frequencies)"
      ],
      "execution_count": null,
      "outputs": [
        {
          "output_type": "stream",
          "text": [
            "{'integration': 1, 'exploitation': 1, 'new': 3, 'digital': 9, 'technologies': 3, 'biggest': 1, 'challenges': 1, 'companies': 2, 'currently': 1, 'face': 1, 'sector': 1, 'organization': 1, 'immune': 1, 'effects': 1, 'transformation': 4, 'market': 1, 'changing': 1, 'potential': 1, 'wider': 1, 'products': 1, 'business': 6, 'processes': 1, 'sales': 1, 'channels': 1, 'supply': 1, 'chains': 1, '—': 4, 'entire': 1, 'models': 2, 'reshaped': 1, 'frequently': 1, 'overturned.2': 1, 'result': 1, 'high': 1, 'priority': 2, 'leadership': 1, 'agendas': 1, 'nearly': 1, '90': 1, 'leaders': 2, 'U.S.': 1, 'U.K.': 1, 'expecting': 1, 'increasing': 1, 'strategic': 2, 'contribution': 1, 'overall': 1, 'coming': 1, 'decade.3': 1, 'question': 1, 'longer': 1, 'need': 2, 'tipping': 1, 'point': 1, 'passed': 1, 'embrace': 1, 'use': 1, 'competitive': 2, 'advantage': 1, 'Faced': 1, 'challenge': 1, 'remain': 1, 'industries': 1, 'formulate': 1, 'execute': 1, 'strategies': 1, 'drive': 1, 'better': 1, 'operational': 1, 'performance': 1, 'Unfortunately': 1, 'recent': 1, 'examples': 2, 'organizations': 1, 'unable': 1, 'pace': 1, 'reality': 1, 'Prominent': 1, 'include': 1, 'bankruptcy': 1, 'movie': 1, 'rental': 1, 'company': 1, 'Blockbuster': 1, 'sale': 1, 'Washington': 1, 'Post': 1, 'Jeff': 1, 'Bezos': 1, 'founder': 1, 'Amazon': 1, 'largely': 1, 'resulting': 1, 'firms': 1, '’': 1, 'inability': 1, 'rapidly': 1, 'develop': 1, 'implement': 1, 'digitally': 1, 'based': 1}\n"
          ],
          "name": "stdout"
        }
      ]
    },
    {
      "cell_type": "code",
      "metadata": {
        "id": "KD6_VEz8HuA8"
      },
      "source": [
        "max_frequency = max(word_frequencies.values())"
      ],
      "execution_count": null,
      "outputs": []
    },
    {
      "cell_type": "code",
      "metadata": {
        "id": "6YrzdruIIAJl",
        "outputId": "747d157b-3a22-48f6-85b5-a758596d1a8c",
        "colab": {
          "base_uri": "https://localhost:8080/"
        }
      },
      "source": [
        "max_frequency"
      ],
      "execution_count": null,
      "outputs": [
        {
          "output_type": "execute_result",
          "data": {
            "text/plain": [
              "9"
            ]
          },
          "metadata": {
            "tags": []
          },
          "execution_count": 51
        }
      ]
    },
    {
      "cell_type": "markdown",
      "metadata": {
        "id": "7CUFSkDaIGlv"
      },
      "source": [
        ""
      ]
    },
    {
      "cell_type": "code",
      "metadata": {
        "id": "ZxE01cqOII8n",
        "outputId": "25c2b128-7e39-4abe-fff3-b22921b2f519",
        "colab": {
          "base_uri": "https://localhost:8080/"
        }
      },
      "source": [
        "for word in word_frequencies.keys():\n",
        "  word_frequencies[word] = word_frequencies[word]/max_frequency\n",
        "print(word_frequencies)"
      ],
      "execution_count": null,
      "outputs": [
        {
          "output_type": "stream",
          "text": [
            "{'integration': 0.1111111111111111, 'exploitation': 0.1111111111111111, 'new': 0.3333333333333333, 'digital': 1.0, 'technologies': 0.3333333333333333, 'biggest': 0.1111111111111111, 'challenges': 0.1111111111111111, 'companies': 0.2222222222222222, 'currently': 0.1111111111111111, 'face': 0.1111111111111111, 'sector': 0.1111111111111111, 'organization': 0.1111111111111111, 'immune': 0.1111111111111111, 'effects': 0.1111111111111111, 'transformation': 0.4444444444444444, 'market': 0.1111111111111111, 'changing': 0.1111111111111111, 'potential': 0.1111111111111111, 'wider': 0.1111111111111111, 'products': 0.1111111111111111, 'business': 0.6666666666666666, 'processes': 0.1111111111111111, 'sales': 0.1111111111111111, 'channels': 0.1111111111111111, 'supply': 0.1111111111111111, 'chains': 0.1111111111111111, '—': 0.4444444444444444, 'entire': 0.1111111111111111, 'models': 0.2222222222222222, 'reshaped': 0.1111111111111111, 'frequently': 0.1111111111111111, 'overturned.2': 0.1111111111111111, 'result': 0.1111111111111111, 'high': 0.1111111111111111, 'priority': 0.2222222222222222, 'leadership': 0.1111111111111111, 'agendas': 0.1111111111111111, 'nearly': 0.1111111111111111, '90': 0.1111111111111111, 'leaders': 0.2222222222222222, 'U.S.': 0.1111111111111111, 'U.K.': 0.1111111111111111, 'expecting': 0.1111111111111111, 'increasing': 0.1111111111111111, 'strategic': 0.2222222222222222, 'contribution': 0.1111111111111111, 'overall': 0.1111111111111111, 'coming': 0.1111111111111111, 'decade.3': 0.1111111111111111, 'question': 0.1111111111111111, 'longer': 0.1111111111111111, 'need': 0.2222222222222222, 'tipping': 0.1111111111111111, 'point': 0.1111111111111111, 'passed': 0.1111111111111111, 'embrace': 0.1111111111111111, 'use': 0.1111111111111111, 'competitive': 0.2222222222222222, 'advantage': 0.1111111111111111, 'Faced': 0.1111111111111111, 'challenge': 0.1111111111111111, 'remain': 0.1111111111111111, 'industries': 0.1111111111111111, 'formulate': 0.1111111111111111, 'execute': 0.1111111111111111, 'strategies': 0.1111111111111111, 'drive': 0.1111111111111111, 'better': 0.1111111111111111, 'operational': 0.1111111111111111, 'performance': 0.1111111111111111, 'Unfortunately': 0.1111111111111111, 'recent': 0.1111111111111111, 'examples': 0.2222222222222222, 'organizations': 0.1111111111111111, 'unable': 0.1111111111111111, 'pace': 0.1111111111111111, 'reality': 0.1111111111111111, 'Prominent': 0.1111111111111111, 'include': 0.1111111111111111, 'bankruptcy': 0.1111111111111111, 'movie': 0.1111111111111111, 'rental': 0.1111111111111111, 'company': 0.1111111111111111, 'Blockbuster': 0.1111111111111111, 'sale': 0.1111111111111111, 'Washington': 0.1111111111111111, 'Post': 0.1111111111111111, 'Jeff': 0.1111111111111111, 'Bezos': 0.1111111111111111, 'founder': 0.1111111111111111, 'Amazon': 0.1111111111111111, 'largely': 0.1111111111111111, 'resulting': 0.1111111111111111, 'firms': 0.1111111111111111, '’': 0.1111111111111111, 'inability': 0.1111111111111111, 'rapidly': 0.1111111111111111, 'develop': 0.1111111111111111, 'implement': 0.1111111111111111, 'digitally': 0.1111111111111111, 'based': 0.1111111111111111}\n"
          ],
          "name": "stdout"
        }
      ]
    },
    {
      "cell_type": "code",
      "metadata": {
        "id": "s6bSu-EjLRW3",
        "outputId": "04f29c1f-7ae6-4d22-f49f-59701ab31b21",
        "colab": {
          "base_uri": "https://localhost:8080/"
        }
      },
      "source": [
        "sentence_tokens = [sent for sent in doc.sents]\n",
        "print (sentence_tokens)"
      ],
      "execution_count": null,
      "outputs": [
        {
          "output_type": "stream",
          "text": [
            "[The integration and exploitation of new digital technologies is one of the biggest challenges that companies currently face., No sector or organization is immune to the effects of digital transformation., The market-changing potential of digital technologies is often wider than products, business processes, sales channels or supply chains—entire business models are being reshaped and frequently overturned.2\n",
            "As a result, digital transformation has become a high priority on leadership agendas, with nearly 90% of business leaders in the U.S. and U.K. expecting IT and digital technologies to make an increasing strategic contribution to their overall business in the coming decade.3, The question is no longer when companies need to make digital transformation a strategic priority—this tipping point has passed—but how to embrace it and use it as a competitive advantage.\n",
            ", Faced with the digital transformation challenge and the need to remain competitive in their industries, business leaders must formulate and execute digital strategies that drive better operational performance., Unfortunately, there are many recent examples of organizations that have been unable to keep pace with the new digital reality., Prominent examples include the bankruptcy of movie-rental company Blockbuster and the sale of the Washington Post to Jeff Bezos, founder of Amazon—largely resulting from those firms’ inability to rapidly develop and implement new digitally based business models.]\n"
          ],
          "name": "stdout"
        }
      ]
    },
    {
      "cell_type": "code",
      "metadata": {
        "id": "IXZ6IhHALke0"
      },
      "source": [
        "sentence_scores={}\n",
        "for sent in sentence_tokens :\n",
        "  for word in sent:\n",
        "    if word.text.lower() in word_frequencies.keys():\n",
        "      if sent not in sentence_scores.keys():\n",
        "        sentence_scores[sent] = word_frequencies[word.text.lower()]\n",
        "      else:\n",
        "        sentence_scores[sent] += word_frequencies[word.text.lower()]"
      ],
      "execution_count": null,
      "outputs": []
    },
    {
      "cell_type": "code",
      "metadata": {
        "id": "gc8f3O9UNQ5M",
        "outputId": "be79690f-177c-4dec-8395-7a5b1738ad7b",
        "colab": {
          "base_uri": "https://localhost:8080/"
        }
      },
      "source": [
        "print(sentence_scores)"
      ],
      "execution_count": null,
      "outputs": [
        {
          "output_type": "stream",
          "text": [
            "{The integration and exploitation of new digital technologies is one of the biggest challenges that companies currently face.: 2.555555555555556, No sector or organization is immune to the effects of digital transformation.: 1.8888888888888888, The market-changing potential of digital technologies is often wider than products, business processes, sales channels or supply chains—entire business models are being reshaped and frequently overturned.2\n",
            "As a result, digital transformation has become a high priority on leadership agendas, with nearly 90% of business leaders in the U.S. and U.K. expecting IT and digital technologies to make an increasing strategic contribution to their overall business in the coming decade.3: 10.999999999999993, The question is no longer when companies need to make digital transformation a strategic priority—this tipping point has passed—but how to embrace it and use it as a competitive advantage.\n",
            ": 4.333333333333333, Faced with the digital transformation challenge and the need to remain competitive in their industries, business leaders must formulate and execute digital strategies that drive better operational performance.: 4.8888888888888875, Unfortunately, there are many recent examples of organizations that have been unable to keep pace with the new digital reality.: 2.111111111111111, Prominent examples include the bankruptcy of movie-rental company Blockbuster and the sale of the Washington Post to Jeff Bezos, founder of Amazon—largely resulting from those firms’ inability to rapidly develop and implement new digitally based business models.: 3.7777777777777786}\n"
          ],
          "name": "stdout"
        }
      ]
    },
    {
      "cell_type": "code",
      "metadata": {
        "id": "_6u1BrtfNf-p"
      },
      "source": [
        "from heapq import nlargest"
      ],
      "execution_count": null,
      "outputs": []
    },
    {
      "cell_type": "code",
      "metadata": {
        "id": "sFoHPXi6NkVl",
        "outputId": "fcce7cfa-0455-4b4a-f794-7d3275b19af0",
        "colab": {
          "base_uri": "https://localhost:8080/"
        }
      },
      "source": [
        "select_length = int(len(sentence_tokens)*0.3)\n",
        "select_length\n"
      ],
      "execution_count": null,
      "outputs": [
        {
          "output_type": "execute_result",
          "data": {
            "text/plain": [
              "2"
            ]
          },
          "metadata": {
            "tags": []
          },
          "execution_count": 57
        }
      ]
    },
    {
      "cell_type": "code",
      "metadata": {
        "id": "ZTEYCa1AN5-j"
      },
      "source": [
        "summary = nlargest(select_length, sentence_scores, key = sentence_scores.get)"
      ],
      "execution_count": null,
      "outputs": []
    },
    {
      "cell_type": "code",
      "metadata": {
        "id": "YB23PWpeOQTk",
        "outputId": "503c9960-99fc-4f0f-c84a-60d8596d4eb1",
        "colab": {
          "base_uri": "https://localhost:8080/"
        }
      },
      "source": [
        "summary"
      ],
      "execution_count": null,
      "outputs": [
        {
          "output_type": "execute_result",
          "data": {
            "text/plain": [
              "[The market-changing potential of digital technologies is often wider than products, business processes, sales channels or supply chains—entire business models are being reshaped and frequently overturned.2\n",
              " As a result, digital transformation has become a high priority on leadership agendas, with nearly 90% of business leaders in the U.S. and U.K. expecting IT and digital technologies to make an increasing strategic contribution to their overall business in the coming decade.3,\n",
              " Faced with the digital transformation challenge and the need to remain competitive in their industries, business leaders must formulate and execute digital strategies that drive better operational performance.]"
            ]
          },
          "metadata": {
            "tags": []
          },
          "execution_count": 59
        }
      ]
    },
    {
      "cell_type": "code",
      "metadata": {
        "id": "HNyvcdTMOZcI"
      },
      "source": [
        "final_summary = [ word.text for word in summary]"
      ],
      "execution_count": null,
      "outputs": []
    },
    {
      "cell_type": "code",
      "metadata": {
        "id": "ZTgQFpUqOmKT"
      },
      "source": [
        "summary = ''.join(final_summary)"
      ],
      "execution_count": null,
      "outputs": []
    },
    {
      "cell_type": "code",
      "metadata": {
        "id": "-gERwXlWRGXX",
        "outputId": "d27f9b89-f3b5-4e9f-f9f9-8bbf22cd5973",
        "colab": {
          "base_uri": "https://localhost:8080/"
        }
      },
      "source": [
        "print(text)"
      ],
      "execution_count": null,
      "outputs": [
        {
          "output_type": "stream",
          "text": [
            "The integration and exploitation of new digital technologies is one of the biggest challenges that companies currently face. No sector or organization is immune to the effects of digital transformation. The market-changing potential of digital technologies is often wider than products, business processes, sales channels or supply chains—entire business models are being reshaped and frequently overturned.2\n",
            "As a result, digital transformation has become a high priority on leadership agendas, with nearly 90% of business leaders in the U.S. and U.K. expecting IT and digital technologies to make an increasing strategic contribution to their overall business in the coming decade.3 The question is no longer when companies need to make digital transformation a strategic priority—this tipping point has passed—but how to embrace it and use it as a competitive advantage.\n",
            "Faced with the digital transformation challenge and the need to remain competitive in their industries, business leaders must formulate and execute digital strategies that drive better operational performance. Unfortunately, there are many recent examples of organizations that have been unable to keep pace with the new digital reality. Prominent examples include the bankruptcy of movie-rental company Blockbuster and the sale of the Washington Post to Jeff Bezos, founder of Amazon—largely resulting from those firms’ inability to rapidly develop and implement new digitally based business models.\n"
          ],
          "name": "stdout"
        }
      ]
    },
    {
      "cell_type": "code",
      "metadata": {
        "id": "51MF6CU0Qysc",
        "outputId": "ebe410cd-a77e-442d-bbe6-d4094695fc9f",
        "colab": {
          "base_uri": "https://localhost:8080/"
        }
      },
      "source": [
        "print(summary)"
      ],
      "execution_count": null,
      "outputs": [
        {
          "output_type": "stream",
          "text": [
            "The market-changing potential of digital technologies is often wider than products, business processes, sales channels or supply chains—entire business models are being reshaped and frequently overturned.2\n",
            "As a result, digital transformation has become a high priority on leadership agendas, with nearly 90% of business leaders in the U.S. and U.K. expecting IT and digital technologies to make an increasing strategic contribution to their overall business in the coming decade.3Faced with the digital transformation challenge and the need to remain competitive in their industries, business leaders must formulate and execute digital strategies that drive better operational performance.\n"
          ],
          "name": "stdout"
        }
      ]
    },
    {
      "cell_type": "code",
      "metadata": {
        "id": "V8O2UhPvRJgt",
        "outputId": "d1f6f724-bd1a-415d-b719-b6c5f2effaf2",
        "colab": {
          "base_uri": "https://localhost:8080/"
        }
      },
      "source": [
        "len(text)"
      ],
      "execution_count": null,
      "outputs": [
        {
          "output_type": "execute_result",
          "data": {
            "text/plain": [
              "1473"
            ]
          },
          "metadata": {
            "tags": []
          },
          "execution_count": 64
        }
      ]
    },
    {
      "cell_type": "code",
      "metadata": {
        "id": "wrNBwd8kRK_X",
        "outputId": "87cefb83-a0a4-4491-e8b2-0d5d83a5e0eb",
        "colab": {
          "base_uri": "https://localhost:8080/"
        }
      },
      "source": [
        "len(summary)"
      ],
      "execution_count": null,
      "outputs": [
        {
          "output_type": "execute_result",
          "data": {
            "text/plain": [
              "689"
            ]
          },
          "metadata": {
            "tags": []
          },
          "execution_count": 65
        }
      ]
    }
  ]
}