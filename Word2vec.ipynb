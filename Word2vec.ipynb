{
  "nbformat": 4,
  "nbformat_minor": 0,
  "metadata": {
    "colab": {
      "name": "Word2vec.ipynb",
      "provenance": []
    },
    "kernelspec": {
      "name": "python3",
      "display_name": "Python 3"
    }
  },
  "cells": [
    {
      "cell_type": "code",
      "metadata": {
        "id": "fG9scNHHMuxX"
      },
      "source": [
        "import numpy as np\n",
        "from sklearn.manifold import TSNE\n",
        "import matplotlib.pyplot as plt\n",
        "import gensim.downloader as api\n"
      ],
      "execution_count": 2,
      "outputs": []
    },
    {
      "cell_type": "code",
      "metadata": {
        "id": "2g3Xyb5qM1Db",
        "outputId": "36a32214-24c5-454b-9b30-f330f57ef4ff",
        "colab": {
          "base_uri": "https://localhost:8080/"
        }
      },
      "source": [
        "word2vec_model = api.load('word2vec-google-news-300')"
      ],
      "execution_count": 3,
      "outputs": [
        {
          "output_type": "stream",
          "text": [
            "[=================================================-] 99.7% 1658.6/1662.8MB downloaded\n"
          ],
          "name": "stdout"
        }
      ]
    },
    {
      "cell_type": "code",
      "metadata": {
        "id": "JVzh9o3FNPqF",
        "outputId": "acc921bd-c524-4956-f739-c169854d7056",
        "colab": {
          "base_uri": "https://localhost:8080/"
        }
      },
      "source": [
        "word2vec_model[\"tree\"]"
      ],
      "execution_count": 4,
      "outputs": [
        {
          "output_type": "execute_result",
          "data": {
            "text/plain": [
              "array([ 0.484375  ,  0.12255859, -0.15722656,  0.03466797, -0.21972656,\n",
              "       -0.23535156,  0.11328125,  0.02770996,  0.1328125 ,  0.28710938,\n",
              "        0.10546875, -0.24121094,  0.01989746,  0.03320312, -0.06933594,\n",
              "       -0.08203125, -0.25976562, -0.1875    , -0.00643921,  0.09033203,\n",
              "        0.00759888, -0.07666016, -0.10498047, -0.125     ,  0.18945312,\n",
              "       -0.12158203, -0.18457031,  0.04785156,  0.22070312, -0.2578125 ,\n",
              "       -0.04760742, -0.21972656, -0.03027344, -0.13476562, -0.04541016,\n",
              "       -0.28125   , -0.06640625, -0.37304688,  0.02709961,  0.02246094,\n",
              "        0.15039062, -0.14648438,  0.14648438, -0.20800781,  0.12890625,\n",
              "       -0.24023438, -0.29492188,  0.07958984,  0.0255127 ,  0.07177734,\n",
              "       -0.04418945,  0.11572266,  0.09179688, -0.03759766,  0.27929688,\n",
              "       -0.06347656,  0.02282715,  0.14746094, -0.02832031, -0.07714844,\n",
              "        0.08203125, -0.13476562,  0.20996094,  0.08544922, -0.1640625 ,\n",
              "       -0.11669922,  0.16699219, -0.09375   , -0.11132812, -0.00297546,\n",
              "        0.13574219, -0.20605469, -0.078125  , -0.43359375,  0.04931641,\n",
              "        0.11865234,  0.2109375 , -0.3515625 ,  0.10058594, -0.00291443,\n",
              "        0.09765625,  0.47851562, -0.01409912, -0.15917969, -0.12158203,\n",
              "        0.03588867, -0.20410156, -0.0279541 , -0.04492188,  0.19824219,\n",
              "       -0.11962891,  0.13378906,  0.00473022, -0.22558594, -0.32226562,\n",
              "       -0.046875  ,  0.03637695, -0.31054688,  0.04882812, -0.32226562,\n",
              "       -0.18261719, -0.17578125,  0.24804688,  0.26953125,  0.21484375,\n",
              "        0.02612305,  0.10058594, -0.109375  , -0.38867188, -0.3125    ,\n",
              "       -0.59765625, -0.32226562,  0.06835938, -0.06787109,  0.12597656,\n",
              "       -0.22265625,  0.1640625 ,  0.02441406, -0.25195312,  0.08496094,\n",
              "        0.04614258,  0.10449219, -0.08740234,  0.17285156,  0.13574219,\n",
              "        0.22949219,  0.05908203, -0.09033203,  0.04223633,  0.15136719,\n",
              "       -0.11767578, -0.3359375 ,  0.01721191, -0.36914062,  0.08056641,\n",
              "        0.38476562, -0.2109375 , -0.13574219,  0.2421875 ,  0.08203125,\n",
              "        0.01379395,  0.03125   , -0.11376953,  0.29492188,  0.15722656,\n",
              "        0.20507812,  0.02819824, -0.22753906, -0.171875  , -0.03613281,\n",
              "        0.43554688,  0.04467773, -0.24707031,  0.3125    , -0.02636719,\n",
              "       -0.19921875,  0.00878906, -0.08544922, -0.03662109, -0.11230469,\n",
              "       -0.1796875 ,  0.10644531,  0.17089844,  0.18261719, -0.04980469,\n",
              "       -0.28710938,  0.12792969, -0.08789062, -0.34375   ,  0.04711914,\n",
              "       -0.16894531,  0.22363281, -0.24121094, -0.08398438, -0.32421875,\n",
              "       -0.13769531,  0.14746094,  0.20019531, -0.10058594,  0.27734375,\n",
              "       -0.31054688, -0.13085938, -0.05224609,  0.11376953, -0.0402832 ,\n",
              "        0.140625  , -0.0546875 ,  0.01263428, -0.03710938,  0.04711914,\n",
              "        0.09179688, -0.140625  , -0.4296875 , -0.01116943,  0.21679688,\n",
              "       -0.02197266,  0.04296875, -0.21582031, -0.08447266, -0.50390625,\n",
              "        0.00485229, -0.15527344, -0.25390625,  0.08642578,  0.02880859,\n",
              "        0.09960938,  0.28515625,  0.24121094,  0.06494141, -0.10839844,\n",
              "       -0.52734375, -0.11669922, -0.27539062, -0.10839844,  0.04711914,\n",
              "        0.14355469, -0.13671875, -0.09667969,  0.35351562,  0.4453125 ,\n",
              "        0.01049805, -0.20800781,  0.02087402,  0.02307129, -0.12695312,\n",
              "       -0.06689453,  0.05957031,  0.06738281,  0.06201172,  0.0390625 ,\n",
              "       -0.13476562, -0.18164062, -0.13574219, -0.03466797, -0.15234375,\n",
              "        0.04248047,  0.15234375, -0.16113281,  0.02905273, -0.15039062,\n",
              "       -0.07324219, -0.21484375, -0.10449219, -0.39257812, -0.21191406,\n",
              "        0.03735352,  0.0480957 ,  0.04321289, -0.02648926, -0.20800781,\n",
              "       -0.45703125, -0.04711914, -0.04321289, -0.14941406,  0.140625  ,\n",
              "        0.00601196, -0.52734375,  0.01208496, -0.23046875, -0.02124023,\n",
              "       -0.11279297, -0.10351562, -0.25585938, -0.26757812,  0.12792969,\n",
              "        0.38867188, -0.24609375,  0.09570312, -0.39453125,  0.02990723,\n",
              "        0.01928711, -0.01470947, -0.03881836, -0.00878906, -0.00445557,\n",
              "        0.02404785,  0.07958984, -0.11035156, -0.10253906,  0.21484375,\n",
              "        0.08105469, -0.1875    ,  0.25195312,  0.08789062, -0.06982422,\n",
              "       -0.16210938, -0.13476562,  0.11425781, -0.0234375 ,  0.01977539,\n",
              "       -0.08349609,  0.20605469, -0.1875    ,  0.17285156,  0.02941895,\n",
              "        0.03588867, -0.11865234, -0.08886719, -0.04296875,  0.01916504],\n",
              "      dtype=float32)"
            ]
          },
          "metadata": {
            "tags": []
          },
          "execution_count": 4
        }
      ]
    },
    {
      "cell_type": "code",
      "metadata": {
        "id": "C32EyM3MNdPx",
        "outputId": "efc4d31a-8731-4d4a-9ac0-7e0c9de89c33",
        "colab": {
          "base_uri": "https://localhost:8080/"
        }
      },
      "source": [
        "word2vec_model.most_similar(\"flower\")"
      ],
      "execution_count": 16,
      "outputs": [
        {
          "output_type": "stream",
          "text": [
            "/usr/local/lib/python3.6/dist-packages/gensim/matutils.py:737: FutureWarning: Conversion of the second argument of issubdtype from `int` to `np.signedinteger` is deprecated. In future, it will be treated as `np.int64 == np.dtype(int).type`.\n",
            "  if np.issubdtype(vec.dtype, np.int):\n"
          ],
          "name": "stderr"
        },
        {
          "output_type": "execute_result",
          "data": {
            "text/plain": [
              "[('floral', 0.7493643760681152),\n",
              " ('flowers', 0.7488502860069275),\n",
              " ('roses', 0.697738766670227),\n",
              " ('orchid', 0.6928980350494385),\n",
              " ('tulip', 0.6629416346549988),\n",
              " ('peony', 0.6613221168518066),\n",
              " ('blooms', 0.6554170250892639),\n",
              " ('blossoms', 0.6527379751205444),\n",
              " ('chrysanthemum', 0.6500308513641357),\n",
              " ('anthurium', 0.649766206741333)]"
            ]
          },
          "metadata": {
            "tags": []
          },
          "execution_count": 16
        }
      ]
    },
    {
      "cell_type": "code",
      "metadata": {
        "id": "subkPwGpQRf0",
        "outputId": "5649a6a1-1755-41b2-c88f-0da07d25a19c",
        "colab": {
          "base_uri": "https://localhost:8080/"
        }
      },
      "source": [
        "word2vec_model.most_similar(positive=['feminine', 'boy'], negative=['girl'], topn=1)"
      ],
      "execution_count": 30,
      "outputs": [
        {
          "output_type": "stream",
          "text": [
            "/usr/local/lib/python3.6/dist-packages/gensim/matutils.py:737: FutureWarning: Conversion of the second argument of issubdtype from `int` to `np.signedinteger` is deprecated. In future, it will be treated as `np.int64 == np.dtype(int).type`.\n",
            "  if np.issubdtype(vec.dtype, np.int):\n"
          ],
          "name": "stderr"
        },
        {
          "output_type": "execute_result",
          "data": {
            "text/plain": [
              "[('masculine', 0.7106932401657104)]"
            ]
          },
          "metadata": {
            "tags": []
          },
          "execution_count": 30
        }
      ]
    },
    {
      "cell_type": "code",
      "metadata": {
        "id": "dxvIZoOXSbqD",
        "outputId": "9cf9655a-b913-44fa-f584-1482803061fb",
        "colab": {
          "base_uri": "https://localhost:8080/",
          "height": 483
        }
      },
      "source": [
        "vocab = [\"flower\", \"tree\", \"vegetables\", \"mother\", \"son\", \"father\", \"daughter\", \"sister\", \"forest\", \"iris\", \"floral\", \"palm\"]\n",
        "\n",
        "def tsne_plot(model):\n",
        "    labels = []\n",
        "    wordvecs = []\n",
        "\n",
        "    for word in vocab:\n",
        "        wordvecs.append(model[word])\n",
        "        labels.append(word)\n",
        "    \n",
        "    tsne_model = TSNE(perplexity=3, n_components=2, init='pca', random_state=42)\n",
        "    coordinates = tsne_model.fit_transform(wordvecs)\n",
        "\n",
        "    x = []\n",
        "    y = []\n",
        "    for value in coordinates:\n",
        "        x.append(value[0])\n",
        "        y.append(value[1])\n",
        "        \n",
        "    plt.figure(figsize=(8,8)) \n",
        "    for i in range(len(x)):\n",
        "        plt.scatter(x[i],y[i])\n",
        "        plt.annotate(labels[i],\n",
        "                     xy=(x[i], y[i]),\n",
        "                     xytext=(2, 2),\n",
        "                     textcoords='offset points',\n",
        "                     ha='right',\n",
        "                     va='bottom')\n",
        "    plt.show()\n",
        "\n",
        "tsne_plot(word2vec_model)"
      ],
      "execution_count": 32,
      "outputs": [
        {
          "output_type": "display_data",
          "data": {
            "image/png": "[encoded data removed]",
            "text/plain": [
              "<Figure size 576x576 with 1 Axes>"
            ]
          },
          "metadata": {
            "tags": [],
            "needs_background": "light"
          }
        }
      ]
    }
  ]
}